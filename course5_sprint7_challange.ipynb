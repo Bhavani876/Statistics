{
 "cells": [
  {
   "cell_type": "code",
   "execution_count": 2,
   "id": "b0344b42",
   "metadata": {},
   "outputs": [],
   "source": [
    "import numpy as np\n",
    "import pandas as pd\n",
    "import matplotlib.pyplot as plt\n",
    "import seaborn as sb\n",
    "import scipy.stats as st\n",
    "import statistics as stat\n",
    "import warnings\n",
    "warnings.filterwarnings('ignore')\n",
    "import math"
   ]
  },
  {
   "cell_type": "markdown",
   "id": "bd8e432c",
   "metadata": {},
   "source": [
    "# task 1"
   ]
  },
  {
   "cell_type": "code",
   "execution_count": 18,
   "id": "674236e2",
   "metadata": {},
   "outputs": [],
   "source": [
    "sample=[15,16,16,0,7,20,6,8,17,25,8,21,29,11,9,21,3,12]\n"
   ]
  },
  {
   "cell_type": "code",
   "execution_count": 22,
   "id": "ccf48d45",
   "metadata": {},
   "outputs": [],
   "source": [
    "sam_mean=np.mean(sample)\n",
    "pop_mean=40\n",
    "sample_std=stat.stdev(sample)\n",
    "n=len(sample)\n",
    "dof=n-1"
   ]
  },
  {
   "cell_type": "markdown",
   "id": "09d030a9",
   "metadata": {},
   "source": [
    "\n",
    "HO:m1=m2\n",
    "HA:m1<>m2"
   ]
  },
  {
   "cell_type": "code",
   "execution_count": 27,
   "id": "56ac781a",
   "metadata": {},
   "outputs": [
    {
     "data": {
      "text/plain": [
       "-14.3827381918304"
      ]
     },
     "execution_count": 27,
     "metadata": {},
     "output_type": "execute_result"
    }
   ],
   "source": [
    "#a\n",
    "t_statitics=(sam_mean-pop_mean)/(sample_std/np.sqrt(n))\n",
    "t_statitics"
   ]
  },
  {
   "cell_type": "code",
   "execution_count": 28,
   "id": "8b322390",
   "metadata": {},
   "outputs": [
    {
     "data": {
      "text/plain": [
       "-1.7396067260750676"
      ]
     },
     "execution_count": 28,
     "metadata": {},
     "output_type": "execute_result"
    }
   ],
   "source": [
    "#b\n",
    "alpha=0.1\n",
    "neg_tc=st.t.ppf((alpha/2),dof)\n",
    "neg_tc"
   ]
  },
  {
   "cell_type": "code",
   "execution_count": 29,
   "id": "bd5c93f4",
   "metadata": {},
   "outputs": [
    {
     "data": {
      "text/plain": [
       "1.7396067260750672"
      ]
     },
     "execution_count": 29,
     "metadata": {},
     "output_type": "execute_result"
    }
   ],
   "source": [
    "pos_tc=st.t.ppf((1-alpha/2),dof)\n",
    "pos_tc"
   ]
  },
  {
   "cell_type": "code",
   "execution_count": 30,
   "id": "981c87bd",
   "metadata": {},
   "outputs": [
    {
     "data": {
      "text/plain": [
       "6.019841913935328e-11"
      ]
     },
     "execution_count": 30,
     "metadata": {},
     "output_type": "execute_result"
    }
   ],
   "source": [
    "prob_value=st.t.sf(abs(t_statitics),dof)*2\n",
    "prob_value"
   ]
  },
  {
   "cell_type": "code",
   "execution_count": 32,
   "id": "1a802863",
   "metadata": {},
   "outputs": [
    {
     "name": "stdout",
     "output_type": "stream",
     "text": [
      "sample_mean 13.555555555555555 and sample_std 7.8006200524454705\n"
     ]
    }
   ],
   "source": [
    "#c\n",
    "sample_mean=np.mean(sample)\n",
    "sample_std=stat.stdev(sample)\n",
    "print('sample_mean {} and sample_std {}' .format(sample_mean,sample_std))"
   ]
  },
  {
   "cell_type": "code",
   "execution_count": 34,
   "id": "0c21899f",
   "metadata": {},
   "outputs": [
    {
     "name": "stdout",
     "output_type": "stream",
     "text": [
      "upper -12.888888888888888 and lower 40.0\n"
     ]
    }
   ],
   "source": [
    "#d\n",
    "upper=sample_mean+t_statitics*(sample_std/np.sqrt(n))\n",
    "lower=sample_mean-t_statitics*(sample_std/np.sqrt(n))\n",
    "print('upper {} and lower {}' .format(upper,lower))"
   ]
  },
  {
   "cell_type": "code",
   "execution_count": 35,
   "id": "a0d77f43",
   "metadata": {},
   "outputs": [
    {
     "data": {
      "text/plain": [
       "<matplotlib.legend.Legend at 0x1b3763240a0>"
      ]
     },
     "execution_count": 35,
     "metadata": {},
     "output_type": "execute_result"
    },
    {
     "data": {
      "image/png": "[encoded data removed]",
      "text/plain": [
       "<Figure size 640x480 with 1 Axes>"
      ]
     },
     "metadata": {},
     "output_type": "display_data"
    }
   ],
   "source": [
    "#e\n",
    "dof=16\n",
    "x=np.arange(-4,4,0.05)\n",
    "y=st.t.pdf(x,dof)\n",
    "plt.plot(x,y,label='dof-' +str(dof))\n",
    "plt.legend()"
   ]
  },
  {
   "cell_type": "code",
   "execution_count": 36,
   "id": "35093b0d",
   "metadata": {},
   "outputs": [
    {
     "name": "stdout",
     "output_type": "stream",
     "text": [
      "T_statitics -14.3827381918304\n",
      "Neg_tc -1.7396067260750676\n",
      "Pos_tc 1.7396067260750672\n",
      "Prob_value 6.019841913935328e-11\n"
     ]
    }
   ],
   "source": [
    "print('T_statitics', t_statitics)\n",
    "print('Neg_tc', neg_tc)\n",
    "print('Pos_tc', pos_tc)\n",
    "print('Prob_value', prob_value)"
   ]
  },
  {
   "cell_type": "code",
   "execution_count": 37,
   "id": "38e5e920",
   "metadata": {},
   "outputs": [
    {
     "name": "stdout",
     "output_type": "stream",
     "text": [
      "Null hypothesis rejected\n"
     ]
    }
   ],
   "source": [
    "if neg_tc<t_statitics<pos_tc and prob_value>alpha:\n",
    "    print(\"Null hypothesis accepted\")\n",
    "else:\n",
    "    print(\"Null hypothesis rejected\")"
   ]
  },
  {
   "cell_type": "markdown",
   "id": "df21384c",
   "metadata": {},
   "source": [
    "# task 2"
   ]
  },
  {
   "cell_type": "code",
   "execution_count": 66,
   "id": "a03f66c9",
   "metadata": {},
   "outputs": [],
   "source": [
    "Machine_1=[4.05,4.01,4.04,4.02]\n",
    "Machine_2=[4.02,3.99,4.01,3.99,4.00,4.00]"
   ]
  },
  {
   "cell_type": "code",
   "execution_count": 67,
   "id": "6ebc994f",
   "metadata": {},
   "outputs": [],
   "source": [
    "s1_mean=np.mean(Machine_1)\n",
    "s2_mean=np.mean(Machine_2)\n",
    "v1=stat.variance(Machine_1)\n",
    "v2=stat.variance(Machine_2)\n",
    "n1=len(Machine_1)\n",
    "n2=len(Machine_2)\n",
    "dof=n1+n2-2"
   ]
  },
  {
   "cell_type": "markdown",
   "id": "bebcf4e7",
   "metadata": {},
   "source": [
    "#a\n",
    "HO:m1=m2\n",
    "HA:m1<>m2"
   ]
  },
  {
   "cell_type": "code",
   "execution_count": 68,
   "id": "24f08b2c",
   "metadata": {},
   "outputs": [
    {
     "data": {
      "text/plain": [
       "-3.3553873313333966"
      ]
     },
     "execution_count": 68,
     "metadata": {},
     "output_type": "execute_result"
    }
   ],
   "source": [
    "#b\n",
    "alpha=0.01\n",
    "neg_tc=st.t.ppf(alpha/2,dof)\n",
    "neg_tc"
   ]
  },
  {
   "cell_type": "code",
   "execution_count": 69,
   "id": "d909dee3",
   "metadata": {},
   "outputs": [
    {
     "data": {
      "text/plain": [
       "3.3553873313333957"
      ]
     },
     "execution_count": 69,
     "metadata": {},
     "output_type": "execute_result"
    }
   ],
   "source": [
    "alpha=0.01\n",
    "pos_tc=st.t.ppf(1-alpha/2,dof)\n",
    "pos_tc"
   ]
  },
  {
   "cell_type": "code",
   "execution_count": 70,
   "id": "90603dbf",
   "metadata": {},
   "outputs": [
    {
     "data": {
      "text/plain": [
       "0.021266333591958144"
      ]
     },
     "execution_count": 70,
     "metadata": {},
     "output_type": "execute_result"
    }
   ],
   "source": [
    "#c\n",
    "n=(s1_mean-s2_mean)\n",
    "a=np.sqrt(((n1-1)*v1+(n2-1)*v2/dof))\n",
    "b=np.sqrt((1/n1)+(1/n2))\n",
    "t_statitics=(a*b)\n",
    "t_statitics"
   ]
  },
  {
   "cell_type": "code",
   "execution_count": 71,
   "id": "5c2a77f5",
   "metadata": {},
   "outputs": [
    {
     "data": {
      "text/plain": [
       "0.9835540538155332"
      ]
     },
     "execution_count": 71,
     "metadata": {},
     "output_type": "execute_result"
    }
   ],
   "source": [
    "prob_value=st.t.sf(abs(t_statitics),dof)*2\n",
    "prob_value"
   ]
  },
  {
   "cell_type": "code",
   "execution_count": 72,
   "id": "a1a7882d",
   "metadata": {},
   "outputs": [
    {
     "data": {
      "text/plain": [
       "<matplotlib.legend.Legend at 0x2035b873820>"
      ]
     },
     "execution_count": 72,
     "metadata": {},
     "output_type": "execute_result"
    },
    {
     "data": {
      "image/png": "[encoded data removed]",
      "text/plain": [
       "<Figure size 640x480 with 1 Axes>"
      ]
     },
     "metadata": {},
     "output_type": "display_data"
    }
   ],
   "source": [
    "#d\n",
    "dof=8\n",
    "x=np.arange(-4,4,0.05)\n",
    "y=st.t.pdf(x,dof)\n",
    "plt.plot(x,y,label='dof-'+str(dof))\n",
    "plt.legend()"
   ]
  },
  {
   "cell_type": "code",
   "execution_count": 73,
   "id": "ca0588e3",
   "metadata": {},
   "outputs": [
    {
     "name": "stdout",
     "output_type": "stream",
     "text": [
      "T_statitics 0.021266333591958144\n",
      "Pos_tc 3.3553873313333957\n",
      "Neg_tc -3.3553873313333966\n",
      "Prob_value 0.9835540538155332\n"
     ]
    }
   ],
   "source": [
    "print('T_statitics', t_statitics)\n",
    "print('Pos_tc', pos_tc)\n",
    "print('Neg_tc', neg_tc)\n",
    "print('Prob_value', prob_value)"
   ]
  },
  {
   "cell_type": "code",
   "execution_count": 74,
   "id": "4bfccd79",
   "metadata": {},
   "outputs": [
    {
     "name": "stdout",
     "output_type": "stream",
     "text": [
      "Null hypothesis accepted\n"
     ]
    }
   ],
   "source": [
    "if neg_tc<t_statitics<pos_tc and prob_value>alpha:\n",
    "    print(\"Null hypothesis accepted\")\n",
    "else:\n",
    "       print(\"Null hypothesis rejected\")"
   ]
  },
  {
   "cell_type": "markdown",
   "id": "8548e041",
   "metadata": {},
   "source": [
    "# task 3"
   ]
  },
  {
   "cell_type": "code",
   "execution_count": 4,
   "id": "af58b3cb",
   "metadata": {},
   "outputs": [],
   "source": [
    "from scipy.stats import f,f_oneway"
   ]
  },
  {
   "cell_type": "code",
   "execution_count": 5,
   "id": "41590a49",
   "metadata": {},
   "outputs": [],
   "source": [
    "Machine_1=[4.05,4.01,4.04,4.02]\n",
    "Machine_2=[4.02,3.99,4.01,3.99,4.00,4.00]\n",
    "Machine_3=[4.00,3.97,3.95,3.98,3.97]\n",
    "Machine_4=[4.01,4.00,3.99,4.02]"
   ]
  },
  {
   "cell_type": "code",
   "execution_count": 6,
   "id": "d43db105",
   "metadata": {},
   "outputs": [],
   "source": [
    "dfc=4-1\n",
    "dfe=19-4\n",
    "alpha=0.01"
   ]
  },
  {
   "cell_type": "markdown",
   "id": "45c925bc",
   "metadata": {},
   "source": [
    "#a\n",
    "m1-m2-m3-m4=0\n",
    "m1-m2-m3-m4<>0"
   ]
  },
  {
   "cell_type": "code",
   "execution_count": 7,
   "id": "ff59a66d",
   "metadata": {},
   "outputs": [
    {
     "data": {
      "text/plain": [
       "5.416964857818421"
      ]
     },
     "execution_count": 7,
     "metadata": {},
     "output_type": "execute_result"
    }
   ],
   "source": [
    "#b\n",
    "pos_fc=f.ppf(1-alpha,dfc,dfe)\n",
    "pos_fc"
   ]
  },
  {
   "cell_type": "code",
   "execution_count": 8,
   "id": "19066db0",
   "metadata": {},
   "outputs": [
    {
     "data": {
      "text/plain": [
       "10.098402523912094"
      ]
     },
     "execution_count": 8,
     "metadata": {},
     "output_type": "execute_result"
    }
   ],
   "source": [
    "#c\n",
    "f_statitics,prob_value=f_oneway(Machine_1,Machine_2,Machine_3,Machine_4)\n",
    "f_statitics"
   ]
  },
  {
   "cell_type": "code",
   "execution_count": 9,
   "id": "0004eadb",
   "metadata": {},
   "outputs": [
    {
     "data": {
      "text/plain": [
       "0.000685335440647619"
      ]
     },
     "execution_count": 9,
     "metadata": {},
     "output_type": "execute_result"
    }
   ],
   "source": [
    "prob_value"
   ]
  },
  {
   "cell_type": "code",
   "execution_count": 10,
   "id": "736fe189",
   "metadata": {},
   "outputs": [
    {
     "data": {
      "text/plain": [
       "[<matplotlib.lines.Line2D at 0x1b376175760>]"
      ]
     },
     "execution_count": 10,
     "metadata": {},
     "output_type": "execute_result"
    },
    {
     "data": {
      "image/png": "[encoded data removed]",
      "text/plain": [
       "<Figure size 640x480 with 1 Axes>"
      ]
     },
     "metadata": {},
     "output_type": "display_data"
    }
   ],
   "source": [
    "#d\n",
    "n=st.f(dfc,dfe,loc=0,scale=1)\n",
    "x=np.arange(0,8,0.05)\n",
    "y=n.pdf(x)\n",
    "plt.plot(x,y)"
   ]
  },
  {
   "cell_type": "code",
   "execution_count": 45,
   "id": "e75f2c18",
   "metadata": {},
   "outputs": [
    {
     "name": "stdout",
     "output_type": "stream",
     "text": [
      "F_statitics 10.098402523912094\n",
      "Pos_fc 5.416964857818421\n",
      "Prob_value 0.000685335440647619\n"
     ]
    }
   ],
   "source": [
    "print('F_statitics', f_statitics)\n",
    "print('Pos_fc', pos_fc)\n",
    "print('Prob_value', prob_value)"
   ]
  },
  {
   "cell_type": "code",
   "execution_count": 48,
   "id": "f00dd65d",
   "metadata": {},
   "outputs": [
    {
     "name": "stdout",
     "output_type": "stream",
     "text": [
      "Null hypothesis rejected\n"
     ]
    }
   ],
   "source": [
    "if f_statitics<pos_fc and prob_value>alpha:\n",
    "    print('Null hypothesis accepted')\n",
    "else:\n",
    "     print('Null hypothesis rejected')"
   ]
  },
  {
   "cell_type": "code",
   "execution_count": null,
   "id": "1cc7261b",
   "metadata": {},
   "outputs": [],
   "source": []
  },
  {
   "cell_type": "code",
   "execution_count": null,
   "id": "2c87120e",
   "metadata": {},
   "outputs": [],
   "source": []
  },
  {
   "cell_type": "code",
   "execution_count": null,
   "id": "bb49af3d",
   "metadata": {},
   "outputs": [],
   "source": []
  },
  {
   "cell_type": "code",
   "execution_count": null,
   "id": "d4ae480f",
   "metadata": {},
   "outputs": [],
   "source": []
  }
 ],
 "metadata": {
  "kernelspec": {
   "display_name": "Python 3 (ipykernel)",
   "language": "python",
   "name": "python3"
  },
  "language_info": {
   "codemirror_mode": {
    "name": "ipython",
    "version": 3
   },
   "file_extension": ".py",
   "mimetype": "text/x-python",
   "name": "python",
   "nbconvert_exporter": "python",
   "pygments_lexer": "ipython3",
   "version": "3.9.13"
  }
 },
 "nbformat": 4,
 "nbformat_minor": 5
}
