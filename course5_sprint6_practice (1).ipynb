{
 "cells": [
  {
   "cell_type": "code",
   "execution_count": 1,
   "id": "b909f99d",
   "metadata": {},
   "outputs": [],
   "source": [
    "import numpy as np\n",
    "import pandas as pd\n",
    "import matplotlib.pyplot as plt\n",
    "import seaborn as sb\n",
    "import scipy.stats as st\n",
    "import warnings\n",
    "warnings.filterwarnings('ignore')"
   ]
  },
  {
   "cell_type": "markdown",
   "id": "a68273fc",
   "metadata": {},
   "source": [
    "# task 1 (real Estate Survey Analysis)"
   ]
  },
  {
   "cell_type": "markdown",
   "id": "ccac266a",
   "metadata": {},
   "source": [
    "#a\n",
    "H0:mean>=33.88\n",
    "HA:mean<33.88"
   ]
  },
  {
   "cell_type": "code",
   "execution_count": 2,
   "id": "d6438847",
   "metadata": {},
   "outputs": [],
   "source": [
    "pop_mean=33.88\n",
    "sam_mean=32.18\n",
    "std=1.28\n",
    "n=49\n",
    "alpha=.05"
   ]
  },
  {
   "cell_type": "code",
   "execution_count": 44,
   "id": "2d4f3d53",
   "metadata": {},
   "outputs": [
    {
     "data": {
      "text/plain": [
       "-1.6448536269514729"
      ]
     },
     "execution_count": 44,
     "metadata": {},
     "output_type": "execute_result"
    }
   ],
   "source": [
    "#b\n",
    "neg_zc=st.norm.ppf(alpha)\n",
    "neg_zc"
   ]
  },
  {
   "cell_type": "code",
   "execution_count": 45,
   "id": "f7cb36f1",
   "metadata": {},
   "outputs": [
    {
     "data": {
      "text/plain": [
       "-9.296875000000016"
      ]
     },
     "execution_count": 45,
     "metadata": {},
     "output_type": "execute_result"
    }
   ],
   "source": [
    "#c\n",
    "z_statistics=(sam_mean-pop_mean)/(std/np.sqrt(n))\n",
    "z_statistics"
   ]
  },
  {
   "cell_type": "code",
   "execution_count": 46,
   "id": "3f7a2ef1",
   "metadata": {},
   "outputs": [
    {
     "data": {
      "text/plain": [
       "1.0"
      ]
     },
     "execution_count": 46,
     "metadata": {},
     "output_type": "execute_result"
    }
   ],
   "source": [
    "#d\n",
    "probability_value=1-st.norm.cdf(z_statistics)\n",
    "probability_value\n"
   ]
  },
  {
   "cell_type": "code",
   "execution_count": 47,
   "id": "f22d4f47",
   "metadata": {},
   "outputs": [
    {
     "data": {
      "text/plain": [
       "7.231705434385679e-21"
      ]
     },
     "execution_count": 47,
     "metadata": {},
     "output_type": "execute_result"
    }
   ],
   "source": [
    "st.norm.sf(abs(z_statistics))"
   ]
  },
  {
   "cell_type": "code",
   "execution_count": 48,
   "id": "bd8167db",
   "metadata": {},
   "outputs": [
    {
     "name": "stdout",
     "output_type": "stream",
     "text": [
      "Null hypothesis rejected\n"
     ]
    }
   ],
   "source": [
    "#e\n",
    "if neg_zc<z_statistics:\n",
    "    print(\"Null hypothesis accepted\")\n",
    "else:\n",
    "    print(\"Null hypothesis rejected\")"
   ]
  },
  {
   "cell_type": "code",
   "execution_count": 10,
   "id": "110cad07",
   "metadata": {},
   "outputs": [],
   "source": [
    "mean=33.88\n",
    "lower=mean-3*std\n",
    "upper=mean+3*std\n",
    "a=np.arange(lower,upper)\n",
    "norm_dist=st.norm.pdf(a,loc=mean,scale=std)"
   ]
  },
  {
   "cell_type": "code",
   "execution_count": 11,
   "id": "2c8dbc74",
   "metadata": {},
   "outputs": [
    {
     "data": {
      "text/plain": [
       "[<matplotlib.lines.Line2D at 0x161296a4be0>]"
      ]
     },
     "execution_count": 11,
     "metadata": {},
     "output_type": "execute_result"
    },
    {
     "data": {
      "image/png": "[encoded data removed]",
      "text/plain": [
       "<Figure size 640x480 with 1 Axes>"
      ]
     },
     "metadata": {},
     "output_type": "display_data"
    }
   ],
   "source": [
    "plt.plot(a,norm_dist)"
   ]
  },
  {
   "cell_type": "markdown",
   "id": "86a44a90",
   "metadata": {},
   "source": [
    "# task 2 (Sports Mettics Analysis)"
   ]
  },
  {
   "cell_type": "markdown",
   "id": "8e0db2dd",
   "metadata": {},
   "source": [
    "#a\n",
    "H0:mean<=85\n",
    "HA:mean>85"
   ]
  },
  {
   "cell_type": "code",
   "execution_count": 37,
   "id": "aabcfe9d",
   "metadata": {},
   "outputs": [],
   "source": [
    "pop_mean=85\n",
    "sam_mean=87.5\n",
    "std=2.1\n",
    "alpha=0.05\n",
    "n=32"
   ]
  },
  {
   "cell_type": "code",
   "execution_count": 38,
   "id": "0e0a1361",
   "metadata": {},
   "outputs": [
    {
     "data": {
      "text/plain": [
       "1.6448536269514722"
      ]
     },
     "execution_count": 38,
     "metadata": {},
     "output_type": "execute_result"
    }
   ],
   "source": [
    "#b\n",
    "pos_zc=st.norm.ppf(1-alpha)\n",
    "pos_zc"
   ]
  },
  {
   "cell_type": "code",
   "execution_count": 39,
   "id": "2958586f",
   "metadata": {},
   "outputs": [
    {
     "data": {
      "text/plain": [
       "6.734350297014738"
      ]
     },
     "execution_count": 39,
     "metadata": {},
     "output_type": "execute_result"
    }
   ],
   "source": [
    "#c\n",
    "z_statistics=(sam_mean-pop_mean)/(std/np.sqrt(n))\n",
    "z_statistics"
   ]
  },
  {
   "cell_type": "code",
   "execution_count": 40,
   "id": "39a94bfe",
   "metadata": {},
   "outputs": [
    {
     "data": {
      "text/plain": [
       "8.233191906015236e-12"
      ]
     },
     "execution_count": 40,
     "metadata": {},
     "output_type": "execute_result"
    }
   ],
   "source": [
    "#d\n",
    "probability_value=1-st.norm.cdf(z_statistics)\n",
    "probability_value"
   ]
  },
  {
   "cell_type": "code",
   "execution_count": 41,
   "id": "99ef2e7c",
   "metadata": {},
   "outputs": [
    {
     "data": {
      "text/plain": [
       "8.233201952582752e-12"
      ]
     },
     "execution_count": 41,
     "metadata": {},
     "output_type": "execute_result"
    }
   ],
   "source": [
    "st.norm.sf(abs(z_statistics))"
   ]
  },
  {
   "cell_type": "code",
   "execution_count": 42,
   "id": "19cc5ce4",
   "metadata": {},
   "outputs": [
    {
     "name": "stdout",
     "output_type": "stream",
     "text": [
      "Javelin is without grip\n"
     ]
    }
   ],
   "source": [
    "#e\n",
    "if z_statistics<pos_zc:\n",
    "    print(\"Javelin with grip\")\n",
    "else:\n",
    "    print(\"Javelin is without grip\")\n"
   ]
  },
  {
   "cell_type": "code",
   "execution_count": 12,
   "id": "520dcce7",
   "metadata": {},
   "outputs": [],
   "source": [
    "mean=85\n",
    "lower=mean-3*std\n",
    "upper=mean+3*std\n",
    "a=np.arange(lower,upper)\n",
    "norm_dist=st.norm.pdf(a,loc=mean,scale=std)"
   ]
  },
  {
   "cell_type": "code",
   "execution_count": 13,
   "id": "e2575b02",
   "metadata": {},
   "outputs": [
    {
     "data": {
      "text/plain": [
       "[<matplotlib.lines.Line2D at 0x1612990dd90>]"
      ]
     },
     "execution_count": 13,
     "metadata": {},
     "output_type": "execute_result"
    },
    {
     "data": {
      "image/png": "[encoded data removed]",
      "text/plain": [
       "<Figure size 640x480 with 1 Axes>"
      ]
     },
     "metadata": {},
     "output_type": "display_data"
    }
   ],
   "source": [
    "plt.plot(a,norm_dist)"
   ]
  }
 ],
 "metadata": {
  "kernelspec": {
   "display_name": "Python 3 (ipykernel)",
   "language": "python",
   "name": "python3"
  },
  "language_info": {
   "codemirror_mode": {
    "name": "ipython",
    "version": 3
   },
   "file_extension": ".py",
   "mimetype": "text/x-python",
   "name": "python",
   "nbconvert_exporter": "python",
   "pygments_lexer": "ipython3",
   "version": "3.9.13"
  }
 },
 "nbformat": 4,
 "nbformat_minor": 5
}
