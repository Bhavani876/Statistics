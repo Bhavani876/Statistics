{
 "cells": [
  {
   "cell_type": "code",
   "execution_count": 2,
   "id": "b8bf87b3",
   "metadata": {},
   "outputs": [],
   "source": [
    "import numpy as np\n",
    "import pandas as pd\n",
    "import matplotlib.pyplot as plt\n",
    "import scipy.stats as st\n",
    "import seaborn as sb\n",
    "import warnings\n",
    "warnings.filterwarnings('ignore')"
   ]
  },
  {
   "cell_type": "markdown",
   "id": "35c4ea65",
   "metadata": {},
   "source": [
    "# task 1"
   ]
  },
  {
   "cell_type": "code",
   "execution_count": 3,
   "id": "81db58e5",
   "metadata": {},
   "outputs": [
    {
     "data": {
      "text/plain": [
       "[0.03, 0.08, 0.15, 0.2, 0.19, 0.16, 0.1, 0.07, 0.02]"
      ]
     },
     "execution_count": 3,
     "metadata": {},
     "output_type": "execute_result"
    }
   ],
   "source": [
    "x=np.arange(6,15)\n",
    "p_x=[0.03,0.08,0.15,0.20,0.19,0.16,0.10,0.07,0.02]\n",
    "p_x"
   ]
  },
  {
   "cell_type": "code",
   "execution_count": 4,
   "id": "7a2fe93c",
   "metadata": {},
   "outputs": [
    {
     "data": {
      "text/plain": [
       "array([ 6,  7,  8,  9, 10, 11, 12, 13, 14])"
      ]
     },
     "execution_count": 4,
     "metadata": {},
     "output_type": "execute_result"
    }
   ],
   "source": [
    "x"
   ]
  },
  {
   "cell_type": "code",
   "execution_count": 5,
   "id": "16c49a2c",
   "metadata": {},
   "outputs": [
    {
     "data": {
      "text/plain": [
       "0.46"
      ]
     },
     "execution_count": 5,
     "metadata": {},
     "output_type": "execute_result"
    }
   ],
   "source": [
    "#a\n",
    "sum(p_x[0:4])"
   ]
  },
  {
   "cell_type": "code",
   "execution_count": null,
   "id": "c2888a7d",
   "metadata": {},
   "outputs": [],
   "source": [
    "# conclusion:- the probability that few days lost due to extreme weather condition."
   ]
  },
  {
   "cell_type": "code",
   "execution_count": 11,
   "id": "a96995f2",
   "metadata": {},
   "outputs": [
    {
     "data": {
      "text/plain": [
       "0.95"
      ]
     },
     "execution_count": 11,
     "metadata": {},
     "output_type": "execute_result"
    }
   ],
   "source": [
    "#b\n",
    "sum(p_x[1:8])"
   ]
  },
  {
   "cell_type": "code",
   "execution_count": null,
   "id": "84edf342",
   "metadata": {},
   "outputs": [],
   "source": [
    "# conclusion:- the probability that will lose 7-13 days next summer ."
   ]
  },
  {
   "cell_type": "code",
   "execution_count": 42,
   "id": "77dd54f8",
   "metadata": {},
   "outputs": [
    {
     "data": {
      "text/plain": [
       "0.0"
      ]
     },
     "execution_count": 42,
     "metadata": {},
     "output_type": "execute_result"
    }
   ],
   "source": [
    "#c\n",
    "1-sum(p_x)"
   ]
  },
  {
   "cell_type": "code",
   "execution_count": null,
   "id": "034f47c4",
   "metadata": {},
   "outputs": [],
   "source": [
    "# conclusion:- the probability that no.of days will not lost next summer."
   ]
  },
  {
   "cell_type": "code",
   "execution_count": 7,
   "id": "2df1c286",
   "metadata": {},
   "outputs": [
    {
     "data": {
      "text/plain": [
       "10"
      ]
     },
     "execution_count": 7,
     "metadata": {},
     "output_type": "execute_result"
    }
   ],
   "source": [
    "#d (mean)\n",
    "l=[]\n",
    "for i,j in zip(x,p_x):\n",
    "    l.append(i*j)\n",
    "mean=round(sum(l))\n",
    "mean\n"
   ]
  },
  {
   "cell_type": "code",
   "execution_count": 8,
   "id": "0d16a9d7",
   "metadata": {},
   "outputs": [
    {
     "data": {
      "text/plain": [
       "3.5099999999999993"
      ]
     },
     "execution_count": 8,
     "metadata": {},
     "output_type": "execute_result"
    }
   ],
   "source": [
    "#variance\n",
    "var=sum(map(lambda x,y: (x-mean)**2*y,x,p_x))\n",
    "var"
   ]
  },
  {
   "cell_type": "code",
   "execution_count": 9,
   "id": "94536500",
   "metadata": {},
   "outputs": [
    {
     "data": {
      "text/plain": [
       "2"
      ]
     },
     "execution_count": 9,
     "metadata": {},
     "output_type": "execute_result"
    }
   ],
   "source": [
    "#standard deviation\n",
    "import math\n",
    "round(math.sqrt(var))"
   ]
  },
  {
   "cell_type": "code",
   "execution_count": 10,
   "id": "cc7f78ef",
   "metadata": {},
   "outputs": [
    {
     "data": {
      "text/plain": [
       "Text(0, 0.5, 'probability')"
      ]
     },
     "execution_count": 10,
     "metadata": {},
     "output_type": "execute_result"
    },
    {
     "data": {
      "image/png": "[encoded data removed]",
      "text/plain": [
       "<Figure size 640x480 with 1 Axes>"
      ]
     },
     "metadata": {},
     "output_type": "display_data"
    }
   ],
   "source": [
    "sb.barplot(x,p_x)\n",
    "plt.title('weather condition')\n",
    "plt.xlabel('No.of days outcomes')\n",
    "plt.ylabel('probability')\n"
   ]
  },
  {
   "cell_type": "markdown",
   "id": "dba3f680",
   "metadata": {},
   "source": [
    "# task 2"
   ]
  },
  {
   "cell_type": "code",
   "execution_count": 21,
   "id": "2d1c2365",
   "metadata": {},
   "outputs": [
    {
     "data": {
      "text/plain": [
       "array([3.51843721e-02, 1.31941395e-01, 2.30897442e-01, 2.50138895e-01,\n",
       "       1.87604171e-01, 1.03182294e-01, 4.29926226e-02, 1.38190573e-02,\n",
       "       3.45476432e-03, 6.71759729e-04, 1.00763959e-04, 1.14504499e-05,\n",
       "       9.54204160e-07, 5.50502400e-08, 1.96608000e-09, 3.27680000e-11])"
      ]
     },
     "execution_count": 21,
     "metadata": {},
     "output_type": "execute_result"
    }
   ],
   "source": [
    "p=0.20\n",
    "q=0.80\n",
    "n=15\n",
    "k=np.arange(0,16)\n",
    "bino_probability=st.binom.pmf(k,n,p)\n",
    "bino_probability"
   ]
  },
  {
   "cell_type": "code",
   "execution_count": 12,
   "id": "6b7e0a49",
   "metadata": {},
   "outputs": [
    {
     "data": {
      "text/plain": [
       "0.9389485703823359"
      ]
     },
     "execution_count": 12,
     "metadata": {},
     "output_type": "execute_result"
    }
   ],
   "source": [
    "#a\n",
    "n=15\n",
    "p=0.20\n",
    "q=1-p\n",
    "k=5\n",
    "a=st.binom.cdf(5,n,p)\n",
    "a"
   ]
  },
  {
   "cell_type": "code",
   "execution_count": null,
   "id": "bea29991",
   "metadata": {},
   "outputs": [],
   "source": [
    "# conclusion:- the probability of exactly 5 overseas outsourcing compines."
   ]
  },
  {
   "cell_type": "code",
   "execution_count": 13,
   "id": "74070090",
   "metadata": {},
   "outputs": [
    {
     "data": {
      "text/plain": [
       "array([6.71759729e-04, 1.00763959e-04, 1.14504499e-05, 9.54204160e-07,\n",
       "       5.50502400e-08, 1.96608000e-09, 3.27680000e-11, 0.00000000e+00,\n",
       "       0.00000000e+00, 0.00000000e+00, 0.00000000e+00, 0.00000000e+00,\n",
       "       0.00000000e+00])"
      ]
     },
     "execution_count": 13,
     "metadata": {},
     "output_type": "execute_result"
    }
   ],
   "source": [
    "#b\n",
    "n=15\n",
    "p=0.20\n",
    "q=1-p\n",
    "k=np.arange(9,22)\n",
    "a=st.binom.pmf(k,n,p)\n",
    "a"
   ]
  },
  {
   "cell_type": "code",
   "execution_count": 15,
   "id": "75fe4674",
   "metadata": {},
   "outputs": [
    {
     "data": {
      "text/plain": [
       "0.0007849853911040012"
      ]
     },
     "execution_count": 15,
     "metadata": {},
     "output_type": "execute_result"
    }
   ],
   "source": [
    "sum(a)"
   ]
  },
  {
   "cell_type": "code",
   "execution_count": 14,
   "id": "bfc204a3",
   "metadata": {},
   "outputs": [
    {
     "data": {
      "text/plain": [
       "0.999886774337536"
      ]
     },
     "execution_count": 14,
     "metadata": {},
     "output_type": "execute_result"
    }
   ],
   "source": [
    "#method2\n",
    "st.binom.cdf(9,n,p)"
   ]
  },
  {
   "cell_type": "code",
   "execution_count": null,
   "id": "b7566372",
   "metadata": {},
   "outputs": [],
   "source": [
    "# conclusion:- the probability of more than 9 overseas outsourcing compines."
   ]
  },
  {
   "cell_type": "code",
   "execution_count": 16,
   "id": "4abc620e",
   "metadata": {},
   "outputs": [
    {
     "data": {
      "text/plain": [
       "0.03518437208883203"
      ]
     },
     "execution_count": 16,
     "metadata": {},
     "output_type": "execute_result"
    }
   ],
   "source": [
    "#c\n",
    "n=15\n",
    "p=0.20\n",
    "q=1-p\n",
    "k=0\n",
    "c=st.binom.pmf(k,n,p)\n",
    "c"
   ]
  },
  {
   "cell_type": "code",
   "execution_count": null,
   "id": "16350c93",
   "metadata": {},
   "outputs": [],
   "source": [
    "# conclusion:- the probability none of the overseas outsourcing compines."
   ]
  },
  {
   "cell_type": "code",
   "execution_count": 18,
   "id": "f2cad469",
   "metadata": {},
   "outputs": [
    {
     "data": {
      "text/plain": [
       "array([0.18760417, 0.10318229, 0.04299262, 0.01381906, 0.00345476])"
      ]
     },
     "execution_count": 18,
     "metadata": {},
     "output_type": "execute_result"
    }
   ],
   "source": [
    "#d\n",
    "n=15\n",
    "p=0.20\n",
    "q=1-p\n",
    "k=np.arange(4,9)\n",
    "d=st.binom.pmf(k,n,p)\n",
    "d"
   ]
  },
  {
   "cell_type": "code",
   "execution_count": 19,
   "id": "8bbe94d6",
   "metadata": {},
   "outputs": [
    {
     "data": {
      "text/plain": [
       "0.3510529100349442"
      ]
     },
     "execution_count": 19,
     "metadata": {},
     "output_type": "execute_result"
    }
   ],
   "source": [
    "sum(d)"
   ]
  },
  {
   "cell_type": "code",
   "execution_count": 22,
   "id": "c768d19b",
   "metadata": {},
   "outputs": [
    {
     "data": {
      "text/plain": [
       "0.3510529100349442"
      ]
     },
     "execution_count": 22,
     "metadata": {},
     "output_type": "execute_result"
    }
   ],
   "source": [
    "sum(bino_probability[4:9])"
   ]
  },
  {
   "cell_type": "code",
   "execution_count": null,
   "id": "4bb734d8",
   "metadata": {},
   "outputs": [],
   "source": [
    "# conclusion:- the probability of 4-7overseas outsourcing compines."
   ]
  },
  {
   "cell_type": "code",
   "execution_count": 121,
   "id": "b66af3bf",
   "metadata": {},
   "outputs": [
    {
     "data": {
      "text/plain": [
       "Text(0, 0.5, 'probability of overseas outsourcing compines')"
      ]
     },
     "execution_count": 121,
     "metadata": {},
     "output_type": "execute_result"
    },
    {
     "data": {
      "image/png": "[encoded data removed]",
      "text/plain": [
       "<Figure size 640x480 with 1 Axes>"
      ]
     },
     "metadata": {},
     "output_type": "display_data"
    }
   ],
   "source": [
    "plt.plot(k,bino_probability,'ro--')\n",
    "plt.title('overseas outsourcing compines')\n",
    "plt.xlabel('No.of overseas')\n",
    "plt.ylabel('probability of overseas outsourcing compines')"
   ]
  },
  {
   "cell_type": "markdown",
   "id": "b07f3fde",
   "metadata": {},
   "source": [
    "# task 3"
   ]
  },
  {
   "cell_type": "code",
   "execution_count": 96,
   "id": "e2406b2b",
   "metadata": {},
   "outputs": [
    {
     "data": {
      "text/plain": [
       "0.5781048646705196"
      ]
     },
     "execution_count": 96,
     "metadata": {},
     "output_type": "execute_result"
    }
   ],
   "source": [
    "#a(x=0)\n",
    "rate=0.548\n",
    "x=0\n",
    "a=st.poisson.pmf(x,rate)\n",
    "a"
   ]
  },
  {
   "cell_type": "code",
   "execution_count": null,
   "id": "f5e04083",
   "metadata": {},
   "outputs": [],
   "source": [
    "# conclusion:- the probability of the family did not make atrip to amusement park last year."
   ]
  },
  {
   "cell_type": "code",
   "execution_count": 97,
   "id": "66b21606",
   "metadata": {},
   "outputs": [
    {
     "data": {
      "text/plain": [
       "0.3168014658394448"
      ]
     },
     "execution_count": 97,
     "metadata": {},
     "output_type": "execute_result"
    }
   ],
   "source": [
    "#b(x=1)\n",
    "rate=0.548\n",
    "x=1\n",
    "b=st.poisson.pmf(x,rate)\n",
    "b"
   ]
  },
  {
   "cell_type": "code",
   "execution_count": null,
   "id": "04751143",
   "metadata": {},
   "outputs": [],
   "source": [
    "# conclusion:- the probability of the family make a trip exactly one year"
   ]
  },
  {
   "cell_type": "code",
   "execution_count": 99,
   "id": "174dcb93",
   "metadata": {},
   "outputs": [
    {
     "data": {
      "text/plain": [
       "array([8.68036016e-02, 1.58561246e-02, 2.17228907e-03, 2.38082882e-04,\n",
       "       2.17449032e-05, 1.70231528e-06, 1.16608597e-07])"
      ]
     },
     "execution_count": 99,
     "metadata": {},
     "output_type": "execute_result"
    }
   ],
   "source": [
    "#c(x>=2)\n",
    "rate=0.548\n",
    "x=np.arange(2,9)\n",
    "c=st.poisson.pmf(x,rate)\n",
    "c\n",
    "\n"
   ]
  },
  {
   "cell_type": "code",
   "execution_count": null,
   "id": "54e1c531",
   "metadata": {},
   "outputs": [],
   "source": [
    "# conclusion:- the probability of the family make a trip two or more than two."
   ]
  },
  {
   "cell_type": "code",
   "execution_count": 27,
   "id": "80f7324c",
   "metadata": {},
   "outputs": [
    {
     "data": {
      "text/plain": [
       "array([0.19320567, 0.31763012, 0.26109196, 0.1430784 ])"
      ]
     },
     "execution_count": 27,
     "metadata": {},
     "output_type": "execute_result"
    }
   ],
   "source": [
    "#d(x<=3)\n",
    "rate=1.644\n",
    "x=np.arange(0,4)\n",
    "d=st.poisson.pmf(x,rate)\n",
    "d\n"
   ]
  },
  {
   "cell_type": "code",
   "execution_count": 28,
   "id": "c3e5352d",
   "metadata": {},
   "outputs": [
    {
     "data": {
      "text/plain": [
       "0.9150061543125836"
      ]
     },
     "execution_count": 28,
     "metadata": {},
     "output_type": "execute_result"
    }
   ],
   "source": [
    "sum(d)"
   ]
  },
  {
   "cell_type": "code",
   "execution_count": null,
   "id": "62143e8c",
   "metadata": {},
   "outputs": [],
   "source": [
    "# conclusion:- the probability of the family make a trip three or less than three for past three years."
   ]
  },
  {
   "cell_type": "code",
   "execution_count": 115,
   "id": "77cfe149",
   "metadata": {},
   "outputs": [
    {
     "data": {
      "text/plain": [
       "0.18178403423727962"
      ]
     },
     "execution_count": 115,
     "metadata": {},
     "output_type": "execute_result"
    }
   ],
   "source": [
    "#e(x=4)\n",
    "rate=3.288\n",
    "x=4\n",
    "d=st.poisson.pmf(x,rate)\n",
    "d"
   ]
  },
  {
   "cell_type": "code",
   "execution_count": null,
   "id": "ebc3229c",
   "metadata": {},
   "outputs": [],
   "source": [
    "# conclusion:- the probability of the family make a trip exactly four for past six years."
   ]
  },
  {
   "cell_type": "code",
   "execution_count": 116,
   "id": "eb43b982",
   "metadata": {},
   "outputs": [
    {
     "data": {
      "text/plain": [
       "array([5.78104865e-01, 3.16801466e-01, 8.68036016e-02, 1.58561246e-02,\n",
       "       2.17228907e-03, 2.38082882e-04, 2.17449032e-05, 1.70231528e-06,\n",
       "       1.16608597e-07, 7.10016788e-09, 3.89089200e-10, 1.93837165e-11,\n",
       "       8.85189720e-13, 3.73141513e-14, 1.46058249e-15, 5.33599471e-17,\n",
       "       1.82757819e-18, 5.89125204e-20, 1.79355895e-21, 5.17300161e-23])"
      ]
     },
     "execution_count": 116,
     "metadata": {},
     "output_type": "execute_result"
    }
   ],
   "source": [
    "rate=0.548\n",
    "x=np.arange(0,20)\n",
    "y=st.poisson.pmf(x,rate)\n",
    "y"
   ]
  },
  {
   "cell_type": "code",
   "execution_count": 120,
   "id": "2328711b",
   "metadata": {},
   "outputs": [
    {
     "data": {
      "text/plain": [
       "Text(0, 0.5, 'probability of amusement')"
      ]
     },
     "execution_count": 120,
     "metadata": {},
     "output_type": "execute_result"
    },
    {
     "data": {
      "image/png": "[encoded data removed]",
      "text/plain": [
       "<Figure size 640x480 with 1 Axes>"
      ]
     },
     "metadata": {},
     "output_type": "display_data"
    }
   ],
   "source": [
    "plt.plot(x,y,'go--')\n",
    "plt.title('Annual trip to amusement')\n",
    "plt.xlabel('No.of annual trip')\n",
    "plt.ylabel('probability of amusement')"
   ]
  }
 ],
 "metadata": {
  "kernelspec": {
   "display_name": "Python 3 (ipykernel)",
   "language": "python",
   "name": "python3"
  },
  "language_info": {
   "codemirror_mode": {
    "name": "ipython",
    "version": 3
   },
   "file_extension": ".py",
   "mimetype": "text/x-python",
   "name": "python",
   "nbconvert_exporter": "python",
   "pygments_lexer": "ipython3",
   "version": "3.9.13"
  }
 },
 "nbformat": 4,
 "nbformat_minor": 5
}
