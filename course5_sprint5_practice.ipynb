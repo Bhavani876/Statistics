{
 "cells": [
  {
   "cell_type": "code",
   "execution_count": 12,
   "id": "66988f0c",
   "metadata": {},
   "outputs": [],
   "source": [
    "import pandas as pd \n",
    "import numpy as np\n",
    "import matplotlib.pyplot as plt\n",
    "import seaborn as sb\n",
    "import scipy.stats as st\n",
    "import warnings\n",
    "warnings.filterwarnings('ignore')"
   ]
  },
  {
   "cell_type": "markdown",
   "id": "79fe2614",
   "metadata": {},
   "source": [
    "# task 1"
   ]
  },
  {
   "cell_type": "code",
   "execution_count": 2,
   "id": "3b720751",
   "metadata": {},
   "outputs": [],
   "source": [
    "#1\n",
    "mean=mean=70\n",
    "std=std=11.35\n"
   ]
  },
  {
   "cell_type": "code",
   "execution_count": 3,
   "id": "32aeb055",
   "metadata": {},
   "outputs": [],
   "source": [
    "x1=55\n",
    "z1=(x1-mean)/std\n"
   ]
  },
  {
   "cell_type": "code",
   "execution_count": 4,
   "id": "d25db9e4",
   "metadata": {},
   "outputs": [
    {
     "data": {
      "text/plain": [
       "0.09315304005028419"
      ]
     },
     "execution_count": 4,
     "metadata": {},
     "output_type": "execute_result"
    }
   ],
   "source": [
    "prob_value=st.norm.cdf(z1)\n",
    "prob_value"
   ]
  },
  {
   "cell_type": "code",
   "execution_count": 5,
   "id": "159fa8b7",
   "metadata": {},
   "outputs": [],
   "source": [
    "x2=80\n",
    "z2=(x2-mean)/std\n"
   ]
  },
  {
   "cell_type": "code",
   "execution_count": 6,
   "id": "e264327a",
   "metadata": {},
   "outputs": [
    {
     "data": {
      "text/plain": [
       "0.8108565879950915"
      ]
     },
     "execution_count": 6,
     "metadata": {},
     "output_type": "execute_result"
    }
   ],
   "source": [
    "prob_value=st.norm.cdf(z2)\n",
    "prob_value"
   ]
  },
  {
   "cell_type": "code",
   "execution_count": 7,
   "id": "bef029e3",
   "metadata": {},
   "outputs": [
    {
     "name": "stdout",
     "output_type": "stream",
     "text": [
      "The probabilty betwwen USD55 -1.3215859030837005 AND USD80 0.881057268722467\n"
     ]
    }
   ],
   "source": [
    "probability_values=st.norm.cdf(z2)-st.norm.cdf(z1)\n",
    "probability_values\n",
    "print('The probabilty betwwen USD55 {} AND USD80 {}' .format(z1,z2))"
   ]
  },
  {
   "cell_type": "code",
   "execution_count": 8,
   "id": "2df58fa8",
   "metadata": {},
   "outputs": [
    {
     "data": {
      "text/plain": [
       "0.7177035479448073"
      ]
     },
     "execution_count": 8,
     "metadata": {},
     "output_type": "execute_result"
    }
   ],
   "source": [
    "st.norm.cdf(z2)-st.norm.cdf(z1)\n"
   ]
  },
  {
   "cell_type": "code",
   "execution_count": 10,
   "id": "42fe3954",
   "metadata": {},
   "outputs": [],
   "source": [
    "#2\n",
    "mean=mean=70\n",
    "std=std=11.35\n"
   ]
  },
  {
   "cell_type": "code",
   "execution_count": 11,
   "id": "1bad742f",
   "metadata": {},
   "outputs": [
    {
     "name": "stdout",
     "output_type": "stream",
     "text": [
      "The probability bill amount to no more than USD40 -2.643171806167401\n"
     ]
    }
   ],
   "source": [
    "x=40\n",
    "z=(x-mean)/std\n",
    "prob_value=1-st.norm.cdf(z)\n",
    "print('The probability bill amount to no more than USD40 {}' .format(z))"
   ]
  },
  {
   "cell_type": "markdown",
   "id": "751ddefd",
   "metadata": {},
   "source": [
    "# task 2"
   ]
  },
  {
   "cell_type": "code",
   "execution_count": 13,
   "id": "c1e2fc11",
   "metadata": {},
   "outputs": [
    {
     "data": {
      "text/html": [
       "<div>\n",
       "<style scoped>\n",
       "    .dataframe tbody tr th:only-of-type {\n",
       "        vertical-align: middle;\n",
       "    }\n",
       "\n",
       "    .dataframe tbody tr th {\n",
       "        vertical-align: top;\n",
       "    }\n",
       "\n",
       "    .dataframe thead th {\n",
       "        text-align: right;\n",
       "    }\n",
       "</style>\n",
       "<table border=\"1\" class=\"dataframe\">\n",
       "  <thead>\n",
       "    <tr style=\"text-align: right;\">\n",
       "      <th></th>\n",
       "      <th>Unnamed: 0</th>\n",
       "      <th>key</th>\n",
       "      <th>fare_amount</th>\n",
       "      <th>pickup_datetime</th>\n",
       "      <th>pickup_longitude</th>\n",
       "      <th>pickup_latitude</th>\n",
       "      <th>dropoff_longitude</th>\n",
       "      <th>dropoff_latitude</th>\n",
       "      <th>passenger_count</th>\n",
       "    </tr>\n",
       "  </thead>\n",
       "  <tbody>\n",
       "    <tr>\n",
       "      <th>0</th>\n",
       "      <td>24238194</td>\n",
       "      <td>2015-05-07 19:52:06.0000003</td>\n",
       "      <td>7.5</td>\n",
       "      <td>2015-05-07 19:52:06 UTC</td>\n",
       "      <td>-73.999817</td>\n",
       "      <td>40.738354</td>\n",
       "      <td>-73.999512</td>\n",
       "      <td>40.723217</td>\n",
       "      <td>1</td>\n",
       "    </tr>\n",
       "    <tr>\n",
       "      <th>1</th>\n",
       "      <td>27835199</td>\n",
       "      <td>2009-07-17 20:04:56.0000002</td>\n",
       "      <td>7.7</td>\n",
       "      <td>2009-07-17 20:04:56 UTC</td>\n",
       "      <td>-73.994355</td>\n",
       "      <td>40.728225</td>\n",
       "      <td>-73.994710</td>\n",
       "      <td>40.750325</td>\n",
       "      <td>1</td>\n",
       "    </tr>\n",
       "    <tr>\n",
       "      <th>2</th>\n",
       "      <td>44984355</td>\n",
       "      <td>2009-08-24 21:45:00.00000061</td>\n",
       "      <td>12.9</td>\n",
       "      <td>2009-08-24 21:45:00 UTC</td>\n",
       "      <td>-74.005043</td>\n",
       "      <td>40.740770</td>\n",
       "      <td>-73.962565</td>\n",
       "      <td>40.772647</td>\n",
       "      <td>1</td>\n",
       "    </tr>\n",
       "    <tr>\n",
       "      <th>3</th>\n",
       "      <td>25894730</td>\n",
       "      <td>2009-06-26 08:22:21.0000001</td>\n",
       "      <td>5.3</td>\n",
       "      <td>2009-06-26 08:22:21 UTC</td>\n",
       "      <td>-73.976124</td>\n",
       "      <td>40.790844</td>\n",
       "      <td>-73.965316</td>\n",
       "      <td>40.803349</td>\n",
       "      <td>3</td>\n",
       "    </tr>\n",
       "    <tr>\n",
       "      <th>4</th>\n",
       "      <td>17610152</td>\n",
       "      <td>2014-08-28 17:47:00.000000188</td>\n",
       "      <td>16.0</td>\n",
       "      <td>2014-08-28 17:47:00 UTC</td>\n",
       "      <td>-73.925023</td>\n",
       "      <td>40.744085</td>\n",
       "      <td>-73.973082</td>\n",
       "      <td>40.761247</td>\n",
       "      <td>5</td>\n",
       "    </tr>\n",
       "    <tr>\n",
       "      <th>...</th>\n",
       "      <td>...</td>\n",
       "      <td>...</td>\n",
       "      <td>...</td>\n",
       "      <td>...</td>\n",
       "      <td>...</td>\n",
       "      <td>...</td>\n",
       "      <td>...</td>\n",
       "      <td>...</td>\n",
       "      <td>...</td>\n",
       "    </tr>\n",
       "    <tr>\n",
       "      <th>199995</th>\n",
       "      <td>42598914</td>\n",
       "      <td>2012-10-28 10:49:00.00000053</td>\n",
       "      <td>3.0</td>\n",
       "      <td>2012-10-28 10:49:00 UTC</td>\n",
       "      <td>-73.987042</td>\n",
       "      <td>40.739367</td>\n",
       "      <td>-73.986525</td>\n",
       "      <td>40.740297</td>\n",
       "      <td>1</td>\n",
       "    </tr>\n",
       "    <tr>\n",
       "      <th>199996</th>\n",
       "      <td>16382965</td>\n",
       "      <td>2014-03-14 01:09:00.0000008</td>\n",
       "      <td>7.5</td>\n",
       "      <td>2014-03-14 01:09:00 UTC</td>\n",
       "      <td>-73.984722</td>\n",
       "      <td>40.736837</td>\n",
       "      <td>-74.006672</td>\n",
       "      <td>40.739620</td>\n",
       "      <td>1</td>\n",
       "    </tr>\n",
       "    <tr>\n",
       "      <th>199997</th>\n",
       "      <td>27804658</td>\n",
       "      <td>2009-06-29 00:42:00.00000078</td>\n",
       "      <td>30.9</td>\n",
       "      <td>2009-06-29 00:42:00 UTC</td>\n",
       "      <td>-73.986017</td>\n",
       "      <td>40.756487</td>\n",
       "      <td>-73.858957</td>\n",
       "      <td>40.692588</td>\n",
       "      <td>2</td>\n",
       "    </tr>\n",
       "    <tr>\n",
       "      <th>199998</th>\n",
       "      <td>20259894</td>\n",
       "      <td>2015-05-20 14:56:25.0000004</td>\n",
       "      <td>14.5</td>\n",
       "      <td>2015-05-20 14:56:25 UTC</td>\n",
       "      <td>-73.997124</td>\n",
       "      <td>40.725452</td>\n",
       "      <td>-73.983215</td>\n",
       "      <td>40.695415</td>\n",
       "      <td>1</td>\n",
       "    </tr>\n",
       "    <tr>\n",
       "      <th>199999</th>\n",
       "      <td>11951496</td>\n",
       "      <td>2010-05-15 04:08:00.00000076</td>\n",
       "      <td>14.1</td>\n",
       "      <td>2010-05-15 04:08:00 UTC</td>\n",
       "      <td>-73.984395</td>\n",
       "      <td>40.720077</td>\n",
       "      <td>-73.985508</td>\n",
       "      <td>40.768793</td>\n",
       "      <td>1</td>\n",
       "    </tr>\n",
       "  </tbody>\n",
       "</table>\n",
       "<p>200000 rows × 9 columns</p>\n",
       "</div>"
      ],
      "text/plain": [
       "        Unnamed: 0                            key  fare_amount  \\\n",
       "0         24238194    2015-05-07 19:52:06.0000003          7.5   \n",
       "1         27835199    2009-07-17 20:04:56.0000002          7.7   \n",
       "2         44984355   2009-08-24 21:45:00.00000061         12.9   \n",
       "3         25894730    2009-06-26 08:22:21.0000001          5.3   \n",
       "4         17610152  2014-08-28 17:47:00.000000188         16.0   \n",
       "...            ...                            ...          ...   \n",
       "199995    42598914   2012-10-28 10:49:00.00000053          3.0   \n",
       "199996    16382965    2014-03-14 01:09:00.0000008          7.5   \n",
       "199997    27804658   2009-06-29 00:42:00.00000078         30.9   \n",
       "199998    20259894    2015-05-20 14:56:25.0000004         14.5   \n",
       "199999    11951496   2010-05-15 04:08:00.00000076         14.1   \n",
       "\n",
       "                pickup_datetime  pickup_longitude  pickup_latitude  \\\n",
       "0       2015-05-07 19:52:06 UTC        -73.999817        40.738354   \n",
       "1       2009-07-17 20:04:56 UTC        -73.994355        40.728225   \n",
       "2       2009-08-24 21:45:00 UTC        -74.005043        40.740770   \n",
       "3       2009-06-26 08:22:21 UTC        -73.976124        40.790844   \n",
       "4       2014-08-28 17:47:00 UTC        -73.925023        40.744085   \n",
       "...                         ...               ...              ...   \n",
       "199995  2012-10-28 10:49:00 UTC        -73.987042        40.739367   \n",
       "199996  2014-03-14 01:09:00 UTC        -73.984722        40.736837   \n",
       "199997  2009-06-29 00:42:00 UTC        -73.986017        40.756487   \n",
       "199998  2015-05-20 14:56:25 UTC        -73.997124        40.725452   \n",
       "199999  2010-05-15 04:08:00 UTC        -73.984395        40.720077   \n",
       "\n",
       "        dropoff_longitude  dropoff_latitude  passenger_count  \n",
       "0              -73.999512         40.723217                1  \n",
       "1              -73.994710         40.750325                1  \n",
       "2              -73.962565         40.772647                1  \n",
       "3              -73.965316         40.803349                3  \n",
       "4              -73.973082         40.761247                5  \n",
       "...                   ...               ...              ...  \n",
       "199995         -73.986525         40.740297                1  \n",
       "199996         -74.006672         40.739620                1  \n",
       "199997         -73.858957         40.692588                2  \n",
       "199998         -73.983215         40.695415                1  \n",
       "199999         -73.985508         40.768793                1  \n",
       "\n",
       "[200000 rows x 9 columns]"
      ]
     },
     "execution_count": 13,
     "metadata": {},
     "output_type": "execute_result"
    }
   ],
   "source": [
    "#a\n",
    "data=pd.read_csv('DS1_C5_S5_SmartCarRiding_Data_Practice.csv')\n",
    "data"
   ]
  },
  {
   "cell_type": "code",
   "execution_count": 36,
   "id": "1753a3ac",
   "metadata": {},
   "outputs": [
    {
     "data": {
      "text/plain": [
       "(200000, 9)"
      ]
     },
     "execution_count": 36,
     "metadata": {},
     "output_type": "execute_result"
    }
   ],
   "source": [
    "data.shape"
   ]
  },
  {
   "cell_type": "code",
   "execution_count": 38,
   "id": "80a56bd4",
   "metadata": {},
   "outputs": [
    {
     "data": {
      "text/plain": [
       "Index(['Unnamed: 0', 'key', 'fare_amount', 'pickup_datetime',\n",
       "       'pickup_longitude', 'pickup_latitude', 'dropoff_longitude',\n",
       "       'dropoff_latitude', 'passenger_count'],\n",
       "      dtype='object')"
      ]
     },
     "execution_count": 38,
     "metadata": {},
     "output_type": "execute_result"
    }
   ],
   "source": [
    "(data.columns)"
   ]
  },
  {
   "cell_type": "code",
   "execution_count": 11,
   "id": "30127328",
   "metadata": {},
   "outputs": [
    {
     "name": "stdout",
     "output_type": "stream",
     "text": [
      "Q1 6.0, Q2 12.5, IQR 6.5, LF -3.75, UF 22.25\n"
     ]
    }
   ],
   "source": [
    "#b\n",
    "a=data['fare_amount']\n",
    "Q1=a.quantile(0.25)\n",
    "Q3=a.quantile(0.75)\n",
    "IQR=Q3-Q1\n",
    "LF=Q1-1.5*IQR\n",
    "UF=Q3+1.5*IQR\n",
    "print('Q1 {}, Q2 {}, IQR {}, LF {}, UF {}' .format(Q1,Q3,IQR,LF,UF))"
   ]
  },
  {
   "cell_type": "code",
   "execution_count": 12,
   "id": "a10c4da2",
   "metadata": {},
   "outputs": [
    {
     "data": {
      "text/plain": [
       "17167"
      ]
     },
     "execution_count": 12,
     "metadata": {},
     "output_type": "execute_result"
    }
   ],
   "source": [
    "outliers=[]\n",
    "for i in a:\n",
    "    if i<LF:\n",
    "        outliers.append(i)\n",
    "    if i>UF:\n",
    "        outliers.append(i)\n",
    "len(outliers)"
   ]
  },
  {
   "cell_type": "code",
   "execution_count": 23,
   "id": "d1b57202",
   "metadata": {},
   "outputs": [],
   "source": [
    "#replace\n",
    "data['fare_amount'].replace(to_replace=outliers,value=data['fare_amount'].mean(),inplace=True)"
   ]
  },
  {
   "cell_type": "code",
   "execution_count": 24,
   "id": "c032a810",
   "metadata": {},
   "outputs": [
    {
     "data": {
      "image/png": "[encoded data removed]",
      "text/plain": [
       "<Figure size 640x480 with 8 Axes>"
      ]
     },
     "metadata": {},
     "output_type": "display_data"
    }
   ],
   "source": [
    "#c\n",
    "j=1\n",
    "list=[10,30,1000,5000,10000,50000,100000,150000]\n",
    "for i in list:\n",
    "    plt.subplot(4,2,j)\n",
    "    dataa=data['fare_amount'].sample(i)\n",
    "    plt.hist(dataa,bins=8,edgecolor='r')\n",
    "    plt.tight_layout()\n",
    "    plt.title('sample size='+str(i))\n",
    "    j=j+1\n",
    "    "
   ]
  },
  {
   "cell_type": "code",
   "execution_count": 17,
   "id": "43f68467",
   "metadata": {},
   "outputs": [
    {
     "data": {
      "text/html": [
       "<div>\n",
       "<style scoped>\n",
       "    .dataframe tbody tr th:only-of-type {\n",
       "        vertical-align: middle;\n",
       "    }\n",
       "\n",
       "    .dataframe tbody tr th {\n",
       "        vertical-align: top;\n",
       "    }\n",
       "\n",
       "    .dataframe thead th {\n",
       "        text-align: right;\n",
       "    }\n",
       "</style>\n",
       "<table border=\"1\" class=\"dataframe\">\n",
       "  <thead>\n",
       "    <tr style=\"text-align: right;\">\n",
       "      <th></th>\n",
       "      <th>Unnamed: 0</th>\n",
       "      <th>key</th>\n",
       "      <th>fare_amount</th>\n",
       "      <th>pickup_datetime</th>\n",
       "      <th>pickup_longitude</th>\n",
       "      <th>pickup_latitude</th>\n",
       "      <th>dropoff_longitude</th>\n",
       "      <th>dropoff_latitude</th>\n",
       "      <th>passenger_count</th>\n",
       "    </tr>\n",
       "  </thead>\n",
       "  <tbody>\n",
       "    <tr>\n",
       "      <th>71715</th>\n",
       "      <td>38680012</td>\n",
       "      <td>2013-05-11 00:31:00.00000084</td>\n",
       "      <td>250.00</td>\n",
       "      <td>2013-05-11 00:31:00 UTC</td>\n",
       "      <td>0.000000</td>\n",
       "      <td>0.000000</td>\n",
       "      <td>0.000000</td>\n",
       "      <td>0.000000</td>\n",
       "      <td>1</td>\n",
       "    </tr>\n",
       "    <tr>\n",
       "      <th>29261</th>\n",
       "      <td>5471406</td>\n",
       "      <td>2013-09-27 12:36:11.0000002</td>\n",
       "      <td>220.00</td>\n",
       "      <td>2013-09-27 12:36:11 UTC</td>\n",
       "      <td>-73.801147</td>\n",
       "      <td>40.671653</td>\n",
       "      <td>-73.790402</td>\n",
       "      <td>40.646742</td>\n",
       "      <td>1</td>\n",
       "    </tr>\n",
       "    <tr>\n",
       "      <th>29261</th>\n",
       "      <td>5471406</td>\n",
       "      <td>2013-09-27 12:36:11.0000002</td>\n",
       "      <td>220.00</td>\n",
       "      <td>2013-09-27 12:36:11 UTC</td>\n",
       "      <td>-73.801147</td>\n",
       "      <td>40.671653</td>\n",
       "      <td>-73.790402</td>\n",
       "      <td>40.646742</td>\n",
       "      <td>1</td>\n",
       "    </tr>\n",
       "    <tr>\n",
       "      <th>185325</th>\n",
       "      <td>20013003</td>\n",
       "      <td>2013-04-19 00:00:00.000000235</td>\n",
       "      <td>275.00</td>\n",
       "      <td>2013-04-19 00:00:00 UTC</td>\n",
       "      <td>0.000000</td>\n",
       "      <td>0.000000</td>\n",
       "      <td>0.000000</td>\n",
       "      <td>0.000000</td>\n",
       "      <td>1</td>\n",
       "    </tr>\n",
       "    <tr>\n",
       "      <th>29261</th>\n",
       "      <td>5471406</td>\n",
       "      <td>2013-09-27 12:36:11.0000002</td>\n",
       "      <td>220.00</td>\n",
       "      <td>2013-09-27 12:36:11 UTC</td>\n",
       "      <td>-73.801147</td>\n",
       "      <td>40.671653</td>\n",
       "      <td>-73.790402</td>\n",
       "      <td>40.646742</td>\n",
       "      <td>1</td>\n",
       "    </tr>\n",
       "    <tr>\n",
       "      <th>196647</th>\n",
       "      <td>13085828</td>\n",
       "      <td>2010-08-19 16:52:45.0000003</td>\n",
       "      <td>200.00</td>\n",
       "      <td>2010-08-19 16:52:45 UTC</td>\n",
       "      <td>-73.952994</td>\n",
       "      <td>40.736298</td>\n",
       "      <td>-73.952994</td>\n",
       "      <td>40.736298</td>\n",
       "      <td>1</td>\n",
       "    </tr>\n",
       "    <tr>\n",
       "      <th>170081</th>\n",
       "      <td>51151143</td>\n",
       "      <td>2011-04-10 04:10:00.00000064</td>\n",
       "      <td>499.00</td>\n",
       "      <td>2011-04-10 04:10:00 UTC</td>\n",
       "      <td>-73.968377</td>\n",
       "      <td>40.764602</td>\n",
       "      <td>-73.968368</td>\n",
       "      <td>40.764600</td>\n",
       "      <td>1</td>\n",
       "    </tr>\n",
       "    <tr>\n",
       "      <th>4292</th>\n",
       "      <td>33491441</td>\n",
       "      <td>2014-10-24 20:20:00.000000181</td>\n",
       "      <td>350.00</td>\n",
       "      <td>2014-10-24 20:20:00 UTC</td>\n",
       "      <td>0.000000</td>\n",
       "      <td>0.000000</td>\n",
       "      <td>0.000000</td>\n",
       "      <td>0.000000</td>\n",
       "      <td>3</td>\n",
       "    </tr>\n",
       "    <tr>\n",
       "      <th>197493</th>\n",
       "      <td>54143082</td>\n",
       "      <td>2014-09-07 08:39:00.00000012</td>\n",
       "      <td>230.00</td>\n",
       "      <td>2014-09-07 08:39:00 UTC</td>\n",
       "      <td>-73.937765</td>\n",
       "      <td>40.758267</td>\n",
       "      <td>-74.382200</td>\n",
       "      <td>40.700890</td>\n",
       "      <td>2</td>\n",
       "    </tr>\n",
       "    <tr>\n",
       "      <th>196647</th>\n",
       "      <td>13085828</td>\n",
       "      <td>2010-08-19 16:52:45.0000003</td>\n",
       "      <td>200.00</td>\n",
       "      <td>2010-08-19 16:52:45 UTC</td>\n",
       "      <td>-73.952994</td>\n",
       "      <td>40.736298</td>\n",
       "      <td>-73.952994</td>\n",
       "      <td>40.736298</td>\n",
       "      <td>1</td>\n",
       "    </tr>\n",
       "    <tr>\n",
       "      <th>29261</th>\n",
       "      <td>5471406</td>\n",
       "      <td>2013-09-27 12:36:11.0000002</td>\n",
       "      <td>220.00</td>\n",
       "      <td>2013-09-27 12:36:11 UTC</td>\n",
       "      <td>-73.801147</td>\n",
       "      <td>40.671653</td>\n",
       "      <td>-73.790402</td>\n",
       "      <td>40.646742</td>\n",
       "      <td>1</td>\n",
       "    </tr>\n",
       "    <tr>\n",
       "      <th>197493</th>\n",
       "      <td>54143082</td>\n",
       "      <td>2014-09-07 08:39:00.00000012</td>\n",
       "      <td>230.00</td>\n",
       "      <td>2014-09-07 08:39:00 UTC</td>\n",
       "      <td>-73.937765</td>\n",
       "      <td>40.758267</td>\n",
       "      <td>-74.382200</td>\n",
       "      <td>40.700890</td>\n",
       "      <td>2</td>\n",
       "    </tr>\n",
       "    <tr>\n",
       "      <th>170081</th>\n",
       "      <td>51151143</td>\n",
       "      <td>2011-04-10 04:10:00.00000064</td>\n",
       "      <td>499.00</td>\n",
       "      <td>2011-04-10 04:10:00 UTC</td>\n",
       "      <td>-73.968377</td>\n",
       "      <td>40.764602</td>\n",
       "      <td>-73.968368</td>\n",
       "      <td>40.764600</td>\n",
       "      <td>1</td>\n",
       "    </tr>\n",
       "    <tr>\n",
       "      <th>185325</th>\n",
       "      <td>20013003</td>\n",
       "      <td>2013-04-19 00:00:00.000000235</td>\n",
       "      <td>275.00</td>\n",
       "      <td>2013-04-19 00:00:00 UTC</td>\n",
       "      <td>0.000000</td>\n",
       "      <td>0.000000</td>\n",
       "      <td>0.000000</td>\n",
       "      <td>0.000000</td>\n",
       "      <td>1</td>\n",
       "    </tr>\n",
       "    <tr>\n",
       "      <th>23682</th>\n",
       "      <td>38390943</td>\n",
       "      <td>2014-11-02 22:40:20.0000004</td>\n",
       "      <td>206.38</td>\n",
       "      <td>2014-11-02 22:40:20 UTC</td>\n",
       "      <td>-73.782161</td>\n",
       "      <td>40.644601</td>\n",
       "      <td>-74.449079</td>\n",
       "      <td>40.836457</td>\n",
       "      <td>1</td>\n",
       "    </tr>\n",
       "    <tr>\n",
       "      <th>197493</th>\n",
       "      <td>54143082</td>\n",
       "      <td>2014-09-07 08:39:00.00000012</td>\n",
       "      <td>230.00</td>\n",
       "      <td>2014-09-07 08:39:00 UTC</td>\n",
       "      <td>-73.937765</td>\n",
       "      <td>40.758267</td>\n",
       "      <td>-74.382200</td>\n",
       "      <td>40.700890</td>\n",
       "      <td>2</td>\n",
       "    </tr>\n",
       "    <tr>\n",
       "      <th>29261</th>\n",
       "      <td>5471406</td>\n",
       "      <td>2013-09-27 12:36:11.0000002</td>\n",
       "      <td>220.00</td>\n",
       "      <td>2013-09-27 12:36:11 UTC</td>\n",
       "      <td>-73.801147</td>\n",
       "      <td>40.671653</td>\n",
       "      <td>-73.790402</td>\n",
       "      <td>40.646742</td>\n",
       "      <td>1</td>\n",
       "    </tr>\n",
       "    <tr>\n",
       "      <th>71715</th>\n",
       "      <td>38680012</td>\n",
       "      <td>2013-05-11 00:31:00.00000084</td>\n",
       "      <td>250.00</td>\n",
       "      <td>2013-05-11 00:31:00 UTC</td>\n",
       "      <td>0.000000</td>\n",
       "      <td>0.000000</td>\n",
       "      <td>0.000000</td>\n",
       "      <td>0.000000</td>\n",
       "      <td>1</td>\n",
       "    </tr>\n",
       "    <tr>\n",
       "      <th>170081</th>\n",
       "      <td>51151143</td>\n",
       "      <td>2011-04-10 04:10:00.00000064</td>\n",
       "      <td>499.00</td>\n",
       "      <td>2011-04-10 04:10:00 UTC</td>\n",
       "      <td>-73.968377</td>\n",
       "      <td>40.764602</td>\n",
       "      <td>-73.968368</td>\n",
       "      <td>40.764600</td>\n",
       "      <td>1</td>\n",
       "    </tr>\n",
       "    <tr>\n",
       "      <th>197493</th>\n",
       "      <td>54143082</td>\n",
       "      <td>2014-09-07 08:39:00.00000012</td>\n",
       "      <td>230.00</td>\n",
       "      <td>2014-09-07 08:39:00 UTC</td>\n",
       "      <td>-73.937765</td>\n",
       "      <td>40.758267</td>\n",
       "      <td>-74.382200</td>\n",
       "      <td>40.700890</td>\n",
       "      <td>2</td>\n",
       "    </tr>\n",
       "    <tr>\n",
       "      <th>185325</th>\n",
       "      <td>20013003</td>\n",
       "      <td>2013-04-19 00:00:00.000000235</td>\n",
       "      <td>275.00</td>\n",
       "      <td>2013-04-19 00:00:00 UTC</td>\n",
       "      <td>0.000000</td>\n",
       "      <td>0.000000</td>\n",
       "      <td>0.000000</td>\n",
       "      <td>0.000000</td>\n",
       "      <td>1</td>\n",
       "    </tr>\n",
       "    <tr>\n",
       "      <th>4292</th>\n",
       "      <td>33491441</td>\n",
       "      <td>2014-10-24 20:20:00.000000181</td>\n",
       "      <td>350.00</td>\n",
       "      <td>2014-10-24 20:20:00 UTC</td>\n",
       "      <td>0.000000</td>\n",
       "      <td>0.000000</td>\n",
       "      <td>0.000000</td>\n",
       "      <td>0.000000</td>\n",
       "      <td>3</td>\n",
       "    </tr>\n",
       "    <tr>\n",
       "      <th>170081</th>\n",
       "      <td>51151143</td>\n",
       "      <td>2011-04-10 04:10:00.00000064</td>\n",
       "      <td>499.00</td>\n",
       "      <td>2011-04-10 04:10:00 UTC</td>\n",
       "      <td>-73.968377</td>\n",
       "      <td>40.764602</td>\n",
       "      <td>-73.968368</td>\n",
       "      <td>40.764600</td>\n",
       "      <td>1</td>\n",
       "    </tr>\n",
       "    <tr>\n",
       "      <th>23682</th>\n",
       "      <td>38390943</td>\n",
       "      <td>2014-11-02 22:40:20.0000004</td>\n",
       "      <td>206.38</td>\n",
       "      <td>2014-11-02 22:40:20 UTC</td>\n",
       "      <td>-73.782161</td>\n",
       "      <td>40.644601</td>\n",
       "      <td>-74.449079</td>\n",
       "      <td>40.836457</td>\n",
       "      <td>1</td>\n",
       "    </tr>\n",
       "    <tr>\n",
       "      <th>170081</th>\n",
       "      <td>51151143</td>\n",
       "      <td>2011-04-10 04:10:00.00000064</td>\n",
       "      <td>499.00</td>\n",
       "      <td>2011-04-10 04:10:00 UTC</td>\n",
       "      <td>-73.968377</td>\n",
       "      <td>40.764602</td>\n",
       "      <td>-73.968368</td>\n",
       "      <td>40.764600</td>\n",
       "      <td>1</td>\n",
       "    </tr>\n",
       "    <tr>\n",
       "      <th>29261</th>\n",
       "      <td>5471406</td>\n",
       "      <td>2013-09-27 12:36:11.0000002</td>\n",
       "      <td>220.00</td>\n",
       "      <td>2013-09-27 12:36:11 UTC</td>\n",
       "      <td>-73.801147</td>\n",
       "      <td>40.671653</td>\n",
       "      <td>-73.790402</td>\n",
       "      <td>40.646742</td>\n",
       "      <td>1</td>\n",
       "    </tr>\n",
       "    <tr>\n",
       "      <th>29261</th>\n",
       "      <td>5471406</td>\n",
       "      <td>2013-09-27 12:36:11.0000002</td>\n",
       "      <td>220.00</td>\n",
       "      <td>2013-09-27 12:36:11 UTC</td>\n",
       "      <td>-73.801147</td>\n",
       "      <td>40.671653</td>\n",
       "      <td>-73.790402</td>\n",
       "      <td>40.646742</td>\n",
       "      <td>1</td>\n",
       "    </tr>\n",
       "    <tr>\n",
       "      <th>4292</th>\n",
       "      <td>33491441</td>\n",
       "      <td>2014-10-24 20:20:00.000000181</td>\n",
       "      <td>350.00</td>\n",
       "      <td>2014-10-24 20:20:00 UTC</td>\n",
       "      <td>0.000000</td>\n",
       "      <td>0.000000</td>\n",
       "      <td>0.000000</td>\n",
       "      <td>0.000000</td>\n",
       "      <td>3</td>\n",
       "    </tr>\n",
       "    <tr>\n",
       "      <th>4292</th>\n",
       "      <td>33491441</td>\n",
       "      <td>2014-10-24 20:20:00.000000181</td>\n",
       "      <td>350.00</td>\n",
       "      <td>2014-10-24 20:20:00 UTC</td>\n",
       "      <td>0.000000</td>\n",
       "      <td>0.000000</td>\n",
       "      <td>0.000000</td>\n",
       "      <td>0.000000</td>\n",
       "      <td>3</td>\n",
       "    </tr>\n",
       "    <tr>\n",
       "      <th>170081</th>\n",
       "      <td>51151143</td>\n",
       "      <td>2011-04-10 04:10:00.00000064</td>\n",
       "      <td>499.00</td>\n",
       "      <td>2011-04-10 04:10:00 UTC</td>\n",
       "      <td>-73.968377</td>\n",
       "      <td>40.764602</td>\n",
       "      <td>-73.968368</td>\n",
       "      <td>40.764600</td>\n",
       "      <td>1</td>\n",
       "    </tr>\n",
       "  </tbody>\n",
       "</table>\n",
       "</div>"
      ],
      "text/plain": [
       "        Unnamed: 0                            key  fare_amount  \\\n",
       "71715     38680012   2013-05-11 00:31:00.00000084       250.00   \n",
       "29261      5471406    2013-09-27 12:36:11.0000002       220.00   \n",
       "29261      5471406    2013-09-27 12:36:11.0000002       220.00   \n",
       "185325    20013003  2013-04-19 00:00:00.000000235       275.00   \n",
       "29261      5471406    2013-09-27 12:36:11.0000002       220.00   \n",
       "196647    13085828    2010-08-19 16:52:45.0000003       200.00   \n",
       "170081    51151143   2011-04-10 04:10:00.00000064       499.00   \n",
       "4292      33491441  2014-10-24 20:20:00.000000181       350.00   \n",
       "197493    54143082   2014-09-07 08:39:00.00000012       230.00   \n",
       "196647    13085828    2010-08-19 16:52:45.0000003       200.00   \n",
       "29261      5471406    2013-09-27 12:36:11.0000002       220.00   \n",
       "197493    54143082   2014-09-07 08:39:00.00000012       230.00   \n",
       "170081    51151143   2011-04-10 04:10:00.00000064       499.00   \n",
       "185325    20013003  2013-04-19 00:00:00.000000235       275.00   \n",
       "23682     38390943    2014-11-02 22:40:20.0000004       206.38   \n",
       "197493    54143082   2014-09-07 08:39:00.00000012       230.00   \n",
       "29261      5471406    2013-09-27 12:36:11.0000002       220.00   \n",
       "71715     38680012   2013-05-11 00:31:00.00000084       250.00   \n",
       "170081    51151143   2011-04-10 04:10:00.00000064       499.00   \n",
       "197493    54143082   2014-09-07 08:39:00.00000012       230.00   \n",
       "185325    20013003  2013-04-19 00:00:00.000000235       275.00   \n",
       "4292      33491441  2014-10-24 20:20:00.000000181       350.00   \n",
       "170081    51151143   2011-04-10 04:10:00.00000064       499.00   \n",
       "23682     38390943    2014-11-02 22:40:20.0000004       206.38   \n",
       "170081    51151143   2011-04-10 04:10:00.00000064       499.00   \n",
       "29261      5471406    2013-09-27 12:36:11.0000002       220.00   \n",
       "29261      5471406    2013-09-27 12:36:11.0000002       220.00   \n",
       "4292      33491441  2014-10-24 20:20:00.000000181       350.00   \n",
       "4292      33491441  2014-10-24 20:20:00.000000181       350.00   \n",
       "170081    51151143   2011-04-10 04:10:00.00000064       499.00   \n",
       "\n",
       "                pickup_datetime  pickup_longitude  pickup_latitude  \\\n",
       "71715   2013-05-11 00:31:00 UTC          0.000000         0.000000   \n",
       "29261   2013-09-27 12:36:11 UTC        -73.801147        40.671653   \n",
       "29261   2013-09-27 12:36:11 UTC        -73.801147        40.671653   \n",
       "185325  2013-04-19 00:00:00 UTC          0.000000         0.000000   \n",
       "29261   2013-09-27 12:36:11 UTC        -73.801147        40.671653   \n",
       "196647  2010-08-19 16:52:45 UTC        -73.952994        40.736298   \n",
       "170081  2011-04-10 04:10:00 UTC        -73.968377        40.764602   \n",
       "4292    2014-10-24 20:20:00 UTC          0.000000         0.000000   \n",
       "197493  2014-09-07 08:39:00 UTC        -73.937765        40.758267   \n",
       "196647  2010-08-19 16:52:45 UTC        -73.952994        40.736298   \n",
       "29261   2013-09-27 12:36:11 UTC        -73.801147        40.671653   \n",
       "197493  2014-09-07 08:39:00 UTC        -73.937765        40.758267   \n",
       "170081  2011-04-10 04:10:00 UTC        -73.968377        40.764602   \n",
       "185325  2013-04-19 00:00:00 UTC          0.000000         0.000000   \n",
       "23682   2014-11-02 22:40:20 UTC        -73.782161        40.644601   \n",
       "197493  2014-09-07 08:39:00 UTC        -73.937765        40.758267   \n",
       "29261   2013-09-27 12:36:11 UTC        -73.801147        40.671653   \n",
       "71715   2013-05-11 00:31:00 UTC          0.000000         0.000000   \n",
       "170081  2011-04-10 04:10:00 UTC        -73.968377        40.764602   \n",
       "197493  2014-09-07 08:39:00 UTC        -73.937765        40.758267   \n",
       "185325  2013-04-19 00:00:00 UTC          0.000000         0.000000   \n",
       "4292    2014-10-24 20:20:00 UTC          0.000000         0.000000   \n",
       "170081  2011-04-10 04:10:00 UTC        -73.968377        40.764602   \n",
       "23682   2014-11-02 22:40:20 UTC        -73.782161        40.644601   \n",
       "170081  2011-04-10 04:10:00 UTC        -73.968377        40.764602   \n",
       "29261   2013-09-27 12:36:11 UTC        -73.801147        40.671653   \n",
       "29261   2013-09-27 12:36:11 UTC        -73.801147        40.671653   \n",
       "4292    2014-10-24 20:20:00 UTC          0.000000         0.000000   \n",
       "4292    2014-10-24 20:20:00 UTC          0.000000         0.000000   \n",
       "170081  2011-04-10 04:10:00 UTC        -73.968377        40.764602   \n",
       "\n",
       "        dropoff_longitude  dropoff_latitude  passenger_count  \n",
       "71715            0.000000          0.000000                1  \n",
       "29261          -73.790402         40.646742                1  \n",
       "29261          -73.790402         40.646742                1  \n",
       "185325           0.000000          0.000000                1  \n",
       "29261          -73.790402         40.646742                1  \n",
       "196647         -73.952994         40.736298                1  \n",
       "170081         -73.968368         40.764600                1  \n",
       "4292             0.000000          0.000000                3  \n",
       "197493         -74.382200         40.700890                2  \n",
       "196647         -73.952994         40.736298                1  \n",
       "29261          -73.790402         40.646742                1  \n",
       "197493         -74.382200         40.700890                2  \n",
       "170081         -73.968368         40.764600                1  \n",
       "185325           0.000000          0.000000                1  \n",
       "23682          -74.449079         40.836457                1  \n",
       "197493         -74.382200         40.700890                2  \n",
       "29261          -73.790402         40.646742                1  \n",
       "71715            0.000000          0.000000                1  \n",
       "170081         -73.968368         40.764600                1  \n",
       "197493         -74.382200         40.700890                2  \n",
       "185325           0.000000          0.000000                1  \n",
       "4292             0.000000          0.000000                3  \n",
       "170081         -73.968368         40.764600                1  \n",
       "23682          -74.449079         40.836457                1  \n",
       "170081         -73.968368         40.764600                1  \n",
       "29261          -73.790402         40.646742                1  \n",
       "29261          -73.790402         40.646742                1  \n",
       "4292             0.000000          0.000000                3  \n",
       "4292             0.000000          0.000000                3  \n",
       "170081         -73.968368         40.764600                1  "
      ]
     },
     "execution_count": 17,
     "metadata": {},
     "output_type": "execute_result"
    }
   ],
   "source": [
    "#d\n",
    "sam_30=data[data['fare_amount']>=200].sample(30,replace=True)\n",
    "sam_30"
   ]
  },
  {
   "cell_type": "code",
   "execution_count": 15,
   "id": "da04a935",
   "metadata": {},
   "outputs": [
    {
     "name": "stdout",
     "output_type": "stream",
     "text": [
      "pop_mean: 11.359955250000626\n",
      "pop_median: 8.5\n",
      "pop_std: 9.901776225068813\n",
      "pop_var: 3.3689761055846033\n",
      "pop_skew: 4.504813074180271\n",
      "pop_kurtosis: 63.88268703411687\n"
     ]
    }
   ],
   "source": [
    "#e\n",
    "print('pop_mean:', data['fare_amount'].mean())\n",
    "print('pop_median:', data['fare_amount'].median())\n",
    "print('pop_std:', data['fare_amount'].std())\n",
    "print('pop_var:', np.sqrt(std))\n",
    "print('pop_skew:', st.skew(data['fare_amount']))\n",
    "print('pop_kurtosis:', st.kurtosis(data['fare_amount'],fisher=True))"
   ]
  },
  {
   "cell_type": "code",
   "execution_count": 18,
   "id": "020bcbb9",
   "metadata": {},
   "outputs": [
    {
     "name": "stdout",
     "output_type": "stream",
     "text": [
      "sample_mean: 299.72533333333337\n",
      "sample_median: 240.0\n",
      "sample_std: 110.85998400384754\n",
      "sample_var: 3.3689761055846033\n",
      "sample_skew: 1.0086492460812548\n",
      "sample_kurtosis: -0.5845889352718916\n"
     ]
    }
   ],
   "source": [
    "print('sample_mean:', sam_30['fare_amount'].mean())\n",
    "print('sample_median:', sam_30['fare_amount'].median())\n",
    "print('sample_std:', sam_30['fare_amount'].std())\n",
    "print('sample_var:', np.sqrt(std))\n",
    "print('sample_skew:', st.skew(sam_30['fare_amount']))\n",
    "print('sample_kurtosis:', st.kurtosis(sam_30['fare_amount'],fisher=True))"
   ]
  },
  {
   "cell_type": "markdown",
   "id": "74e62025",
   "metadata": {},
   "source": [
    "# central limit theorem"
   ]
  },
  {
   "cell_type": "code",
   "execution_count": 14,
   "id": "980701d9",
   "metadata": {},
   "outputs": [
    {
     "data": {
      "text/plain": [
       "[12.784333333333334,\n",
       " 8.31,\n",
       " 9.551333333333336,\n",
       " 8.98,\n",
       " 10.811000000000002,\n",
       " 14.923333333333334,\n",
       " 9.6,\n",
       " 15.495666666666665,\n",
       " 10.943333333333335,\n",
       " 14.342000000000004,\n",
       " 9.110000000000001,\n",
       " 11.213333333333333,\n",
       " 13.617666666666667,\n",
       " 10.737666666666668,\n",
       " 14.043666666666667,\n",
       " 9.68,\n",
       " 11.44,\n",
       " 13.758666666666667,\n",
       " 9.133333333333333,\n",
       " 11.356666666666666,\n",
       " 10.620999999999999,\n",
       " 9.456666666666669,\n",
       " 11.230999999999998,\n",
       " 9.886666666666665,\n",
       " 11.713333333333333,\n",
       " 12.426666666666666,\n",
       " 8.419999999999998,\n",
       " 11.944333333333333,\n",
       " 14.816333333333334,\n",
       " 9.98666666666667]"
      ]
     },
     "execution_count": 14,
     "metadata": {},
     "output_type": "execute_result"
    }
   ],
   "source": [
    "b=[]\n",
    "for i in range(30):\n",
    "    b.append(data['fare_amount'].sample(n=30).mean())\n",
    "b\n"
   ]
  },
  {
   "cell_type": "markdown",
   "id": "9c188983",
   "metadata": {},
   "source": [
    "# population_mean"
   ]
  },
  {
   "cell_type": "code",
   "execution_count": 15,
   "id": "b7505db1",
   "metadata": {},
   "outputs": [
    {
     "data": {
      "text/plain": [
       "11.359955250000626"
      ]
     },
     "execution_count": 15,
     "metadata": {},
     "output_type": "execute_result"
    }
   ],
   "source": [
    "pop_mean=data['fare_amount'].mean()\n",
    "pop_mean"
   ]
  },
  {
   "cell_type": "markdown",
   "id": "0fa4bca3",
   "metadata": {},
   "source": [
    "# sample_mean"
   ]
  },
  {
   "cell_type": "code",
   "execution_count": 124,
   "id": "a77c2bb4",
   "metadata": {},
   "outputs": [
    {
     "data": {
      "text/plain": [
       "12.408422222222221"
      ]
     },
     "execution_count": 124,
     "metadata": {},
     "output_type": "execute_result"
    }
   ],
   "source": [
    "sample_mean=np.mean(b)\n",
    "sample_mean"
   ]
  },
  {
   "cell_type": "code",
   "execution_count": 125,
   "id": "56155b6f",
   "metadata": {},
   "outputs": [
    {
     "name": "stdout",
     "output_type": "stream",
     "text": [
      "pop_mean 11.359955250000626 and sample_mean 12.408422222222221\n"
     ]
    }
   ],
   "source": [
    "print('pop_mean {} and sample_mean {}' .format(pop_mean,sample_mean))"
   ]
  },
  {
   "cell_type": "markdown",
   "id": "72869dfc",
   "metadata": {},
   "source": [
    "# population_std"
   ]
  },
  {
   "cell_type": "code",
   "execution_count": 130,
   "id": "f9920753",
   "metadata": {},
   "outputs": [
    {
     "data": {
      "text/plain": [
       "1.8078042130853658"
      ]
     },
     "execution_count": 130,
     "metadata": {},
     "output_type": "execute_result"
    }
   ],
   "source": [
    "pop_std=np.std(data['fare_amount'])/np.sqrt(30)\n",
    "pop_std"
   ]
  },
  {
   "cell_type": "markdown",
   "id": "327b5013",
   "metadata": {},
   "source": [
    "# sample_std"
   ]
  },
  {
   "cell_type": "code",
   "execution_count": 133,
   "id": "643c7900",
   "metadata": {},
   "outputs": [
    {
     "data": {
      "text/plain": [
       "1.964624529075953"
      ]
     },
     "execution_count": 133,
     "metadata": {},
     "output_type": "execute_result"
    }
   ],
   "source": [
    "sample_std=np.std(b)\n",
    "sample_std"
   ]
  },
  {
   "cell_type": "code",
   "execution_count": 135,
   "id": "43c8eb48",
   "metadata": {},
   "outputs": [
    {
     "name": "stdout",
     "output_type": "stream",
     "text": [
      "pop_std 1.8078042130853658 and sample_std 1.964624529075953\n"
     ]
    }
   ],
   "source": [
    "print('pop_std {} and sample_std {}' .format(pop_std,sample_std))"
   ]
  },
  {
   "cell_type": "code",
   "execution_count": 104,
   "id": "87753496",
   "metadata": {
    "scrolled": true
   },
   "outputs": [
    {
     "data": {
      "text/plain": [
       "0          7.5\n",
       "1          7.7\n",
       "2         12.9\n",
       "3          5.3\n",
       "4         16.0\n",
       "          ... \n",
       "199995     3.0\n",
       "199996     7.5\n",
       "199997    30.9\n",
       "199998    14.5\n",
       "199999    14.1\n",
       "Name: fare_amount, Length: 200000, dtype: float64"
      ]
     },
     "execution_count": 104,
     "metadata": {},
     "output_type": "execute_result"
    }
   ],
   "source": [
    "#e\n",
    "data['fare_amount']"
   ]
  },
  {
   "cell_type": "code",
   "execution_count": 105,
   "id": "38dcda86",
   "metadata": {},
   "outputs": [],
   "source": [
    "mean=data['fare_amount'].mean()\n",
    "std=data['fare_amount'].std()\n",
    "lower=mean-3*std\n",
    "upper=mean+3*std\n",
    "data=np.arange(lower,upper,1)\n",
    "x=st.norm.pdf(data,loc=mean,scale=std)\n"
   ]
  },
  {
   "cell_type": "code",
   "execution_count": 106,
   "id": "9a3ef54a",
   "metadata": {
    "collapsed": true
   },
   "outputs": [
    {
     "data": {
      "text/plain": [
       "array([0.00044758, 0.00060289, 0.00080385, 0.00106092, 0.00138599,\n",
       "       0.00179228, 0.00229417, 0.00290679, 0.00364563, 0.00452588,\n",
       "       0.00556164, 0.00676509, 0.00814544, 0.00970792, 0.01145271,\n",
       "       0.01337399, 0.01545909, 0.01768794, 0.02003278, 0.02245824,\n",
       "       0.02492186, 0.02737511, 0.02976471, 0.03203449, 0.03412751,\n",
       "       0.03598833, 0.03756552, 0.03881392, 0.03969685, 0.04018788,\n",
       "       0.04027213, 0.03994704, 0.03922248, 0.03812027, 0.03667308,\n",
       "       0.03492281, 0.03291861, 0.03071456, 0.02836727, 0.0259335 ,\n",
       "       0.02346796, 0.02102132, 0.01863868, 0.01635839, 0.01421139,\n",
       "       0.0122209 , 0.01040256, 0.00876491, 0.00731014, 0.00603495,\n",
       "       0.00493165, 0.00398916, 0.00319405, 0.00253146, 0.00198597,\n",
       "       0.00154221, 0.00118546, 0.00090198, 0.00067933, 0.00050645])"
      ]
     },
     "execution_count": 106,
     "metadata": {},
     "output_type": "execute_result"
    }
   ],
   "source": [
    "x"
   ]
  },
  {
   "cell_type": "code",
   "execution_count": 107,
   "id": "094a2941",
   "metadata": {},
   "outputs": [
    {
     "data": {
      "text/plain": [
       "[<matplotlib.lines.Line2D at 0x176899e2610>]"
      ]
     },
     "execution_count": 107,
     "metadata": {},
     "output_type": "execute_result"
    },
    {
     "data": {
      "image/png": "[encoded data removed]",
      "text/plain": [
       "<Figure size 640x480 with 1 Axes>"
      ]
     },
     "metadata": {},
     "output_type": "display_data"
    }
   ],
   "source": [
    "plt.plot(data,x)"
   ]
  },
  {
   "cell_type": "code",
   "execution_count": 108,
   "id": "1066c1b6",
   "metadata": {},
   "outputs": [
    {
     "data": {
      "text/plain": [
       "0.6826894921370859"
      ]
     },
     "execution_count": 108,
     "metadata": {},
     "output_type": "execute_result"
    }
   ],
   "source": [
    "st.norm.cdf(mean+std,loc=mean,scale=std)-st.norm.cdf(mean-std,loc=mean,scale=std)"
   ]
  },
  {
   "cell_type": "code",
   "execution_count": 109,
   "id": "d87d7275",
   "metadata": {},
   "outputs": [
    {
     "data": {
      "text/plain": [
       "0.9544997361036416"
      ]
     },
     "execution_count": 109,
     "metadata": {},
     "output_type": "execute_result"
    }
   ],
   "source": [
    "st.norm.cdf(mean+2*std,loc=mean,scale=std)-st.norm.cdf(mean-2*std,loc=mean,scale=std)"
   ]
  },
  {
   "cell_type": "code",
   "execution_count": 110,
   "id": "42bc5c4c",
   "metadata": {},
   "outputs": [
    {
     "data": {
      "text/plain": [
       "0.9973002039367398"
      ]
     },
     "execution_count": 110,
     "metadata": {},
     "output_type": "execute_result"
    }
   ],
   "source": [
    "st.norm.cdf(mean+3*std,loc=mean,scale=std)-st.norm.cdf(mean-3*std,loc=mean,scale=std)"
   ]
  }
 ],
 "metadata": {
  "kernelspec": {
   "display_name": "Python 3 (ipykernel)",
   "language": "python",
   "name": "python3"
  },
  "language_info": {
   "codemirror_mode": {
    "name": "ipython",
    "version": 3
   },
   "file_extension": ".py",
   "mimetype": "text/x-python",
   "name": "python",
   "nbconvert_exporter": "python",
   "pygments_lexer": "ipython3",
   "version": "3.9.13"
  }
 },
 "nbformat": 4,
 "nbformat_minor": 5
}
